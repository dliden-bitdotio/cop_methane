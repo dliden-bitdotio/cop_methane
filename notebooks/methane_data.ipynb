{
 "cells": [
  {
   "cell_type": "code",
   "execution_count": 1,
   "metadata": {},
   "outputs": [],
   "source": [
    "import bitdotio\n",
    "import os\n",
    "import pandas as pd\n",
    "\n",
    "from dotenv import load_dotenv\n",
    "from sqlalchemy import create_engine"
   ]
  },
  {
   "cell_type": "code",
   "execution_count": 2,
   "metadata": {},
   "outputs": [],
   "source": [
    "load_dotenv()\n",
    "os.getenv(\"BITIO_USER\")\n",
    "\n",
    "BITIO_REPO = \"cop26_methane\""
   ]
  },
  {
   "cell_type": "markdown",
   "metadata": {},
   "source": [
    "# Methane Emissions by Sector\n",
    "Source: https://cfpub.epa.gov/ghgdata/inventoryexplorer/#iallsectors/allsectors/methane/inventsect/all\n",
    "\"Where does methane come from\""
   ]
  },
  {
   "cell_type": "code",
   "execution_count": 9,
   "metadata": {},
   "outputs": [],
   "source": [
    "df = pd.read_csv(\"../data/epa_methane_by_sector.csv\")\n",
    "\n",
    "# convert wide to long\n",
    "df = pd.melt(df, id_vars=[\"Emissions of Methane, MMT CO2 eq.\"], var_name=\"Year\", value_name=\"mmt_co2_eq\")\n",
    "df.rename(columns={\"Year\": \"year\", \"Emissions of Methane, MMT CO2 eq.\": \"sector\"}, inplace=True)\n",
    "\n",
    "engine = create_engine(os.getenv(\"PG_STRING\"))\n",
    "\n",
    "with engine.connect() as conn:\n",
    "    df.to_sql(\n",
    "    \"epa_methane_sources\",\n",
    "    conn,\n",
    "    schema=f'{os.getenv(\"BITIO_USER\")}/{BITIO_REPO}',\n",
    "    index=False,\n",
    "    if_exists=\"replace\")"
   ]
  },
  {
   "cell_type": "markdown",
   "metadata": {},
   "source": [
    "# GWP of Methane\n",
    "\"Why do we care\"\n",
    "Source: https://www.ipcc.ch/report/ar5/wg1/"
   ]
  },
  {
   "cell_type": "code",
   "execution_count": 11,
   "metadata": {},
   "outputs": [],
   "source": [
    "# get GWPs from HFC repo\n",
    "engine = create_engine(os.getenv(\"PG_STRING\"))\n",
    "# SQL for querying an entire table\n",
    "sql = f'''\n",
    "    SELECT *\n",
    "    FROM \"bitdotio/hfc\".\"global_warming_potentials\";\n",
    "'''\n",
    "# Return SQL query as a pandas dataframe\n",
    "with engine.connect() as conn:\n",
    "    # Set 1 minute statement timeout (units are milliseconds)\n",
    "    conn.execute(\"SET statement_timeout = 60000;\")\n",
    "    df = pd.read_sql(sql, conn)\n",
    "\n",
    "    df.to_sql(\n",
    "    \"ipcc_global_warming_potentials\",\n",
    "    conn,\n",
    "    schema=f'{os.getenv(\"BITIO_USER\")}/{BITIO_REPO}',\n",
    "    index=False,\n",
    "    if_exists=\"replace\")"
   ]
  },
  {
   "cell_type": "markdown",
   "metadata": {},
   "source": [
    "# International Comparison"
   ]
  },
  {
   "cell_type": "code",
   "execution_count": 14,
   "metadata": {},
   "outputs": [],
   "source": [
    "unfccc_inventory = pd.read_csv(\"../data/processed_comparison.csv\")\n",
    "engine = create_engine(os.getenv(\"PG_STRING\"))\n",
    "\n",
    "with engine.connect() as conn:\n",
    "    unfccc_inventory.to_sql(\n",
    "    \"unfccc_inventory\",\n",
    "    conn,\n",
    "    schema=f'{os.getenv(\"BITIO_USER\")}/{BITIO_REPO}',\n",
    "    index=False,\n",
    "    if_exists=\"replace\")"
   ]
  }
 ],
 "metadata": {
  "interpreter": {
   "hash": "87360335959809839d9f3c1a1cfbfe669f2939add05e3fa8c64023d0d6f114a3"
  },
  "kernelspec": {
   "display_name": "Python 3.9.7 64-bit ('env': venv)",
   "language": "python",
   "name": "python3"
  },
  "language_info": {
   "codemirror_mode": {
    "name": "ipython",
    "version": 3
   },
   "file_extension": ".py",
   "mimetype": "text/x-python",
   "name": "python",
   "nbconvert_exporter": "python",
   "pygments_lexer": "ipython3",
   "version": "3.9.7"
  },
  "orig_nbformat": 4
 },
 "nbformat": 4,
 "nbformat_minor": 2
}
